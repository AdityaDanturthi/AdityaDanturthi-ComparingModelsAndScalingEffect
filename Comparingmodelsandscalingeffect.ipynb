{
 "cells": [
  {
   "cell_type": "markdown",
   "metadata": {},
   "source": [
    "# Comparing models and scaling effect\n",
    "\n",
    "The main objective is to understand the different models and compare their capabilities, we also look at scaling and how applying it helps in certain machine learning models."
   ]
  },
  {
   "cell_type": "markdown",
   "metadata": {},
   "source": [
    "<font color='red'><b>The first task here is to import the dataset and save it to a dataframe using pandas.</b></font> For this we will be importing the standard packages that will allow us to use <b>pandas</b>, <b>numpy arrays</b>, and <b>plot</b> the graph. \n",
    "\n",
    "Now, we are storing the dataset file into a dataframe named adult, which we will be using for future referencing purpose.\n",
    "\n",
    "To achieve this we are using the <b> pd.read_csv</b> function to capture the csv dataset file and store it in a dataframe.\n",
    "\n",
    "After importing, we have displayed the dataframe using it's name and based on this we can see that, the dataframe has <b>32561 rows</b> and <b> 15 columns</b>.\n",
    "\n",
    "As per the mentioned requirements, we have <b>categorical features</b> and <b>binary class</b> for this dataset.\n",
    "\n",
    "The dataset contains:\n",
    "- <b>age</b>: continuous.\n",
    "- <b>workclass</b>: Private, Self-emp-not-inc, Self-emp-inc, Federal-gov, Local-gov, State-gov, Without-pay, Never-worked.\n",
    "- <b>fnlwgt</b>: continuous.\n",
    "- <b>education</b>: Bachelors, Some-college, 11th, HS-grad, Prof-school, Assoc-acdm, Assoc-voc, 9th, 7th-8th, 12th, Masters, 1st-4th, 10th,Doctorate, 5th-6th, Preschool.\n",
    "- <b>education-num</b>: continuous.\n",
    "- <b>marital-status</b>: Married-civ-spouse, Divorced, Never-married, Separated, Widowed, Married-spouse-absent, Married-AF-spouse.\n",
    "- <b>occupation</b>: Tech-support, Craft-repair, Other-service, Sales, Exec-managerial, Prof-specialty, Handlers-cleaners, Machine-op-inspct, Adm-clerical, Farming-fishing, Transport-moving, Priv-house-serv, Protective-serv, Armed-Forces.\n",
    "- <b>relationship</b>: Wife, Own-child, Husband, Not-in-family, Other-relative, Unmarried.\n",
    "- <b>race</b>: White, Asian-Pac-Islander, Amer-Indian-Eskimo, Other, Black.\n",
    "- <b>sex</b>: Female, Male.\n",
    "- <b>capital-gain</b>: continuous.\n",
    "- <b>capital-loss</b>: continuous.\n",
    "- <b>hours-per-week</b>: continuous.\n",
    "- <b>native-country</b>: United-States, Cambodia, England, Puerto-Rico, Canada, Germany, Outlying-US(Guam-USVI-etc), India, Japan, Greece, South, China, Cuba, Iran, Honduras, Philippines, Italy, Poland, Jamaica, Vietnam, Mexico, Portugal, Ireland, France, Dominican-Republic, Laos, Ecuador, Taiwan, Haiti, Columbia, Hungary, Guatemala, Nicaragua, Scotland, Thailand, Yugoslavia, El-Salvador, Trinadad&Tobago, Peru, Hong, Holand-Netherlands.\n",
    "- <b>salary</b> : binary, with 0 for less than or equal to 50K salary and 1 for greater than 50K salary."
   ]
  },
  {
   "cell_type": "code",
   "execution_count": 5,
   "metadata": {},
   "outputs": [
    {
     "data": {
      "text/html": [
       "<div>\n",
       "<style scoped>\n",
       "    .dataframe tbody tr th:only-of-type {\n",
       "        vertical-align: middle;\n",
       "    }\n",
       "\n",
       "    .dataframe tbody tr th {\n",
       "        vertical-align: top;\n",
       "    }\n",
       "\n",
       "    .dataframe thead th {\n",
       "        text-align: right;\n",
       "    }\n",
       "</style>\n",
       "<table border=\"1\" class=\"dataframe\">\n",
       "  <thead>\n",
       "    <tr style=\"text-align: right;\">\n",
       "      <th></th>\n",
       "      <th>age</th>\n",
       "      <th>workclass</th>\n",
       "      <th>fnlwgt</th>\n",
       "      <th>education</th>\n",
       "      <th>education_num</th>\n",
       "      <th>marital_status</th>\n",
       "      <th>occupation</th>\n",
       "      <th>relationship</th>\n",
       "      <th>race</th>\n",
       "      <th>sex</th>\n",
       "      <th>capital_gain</th>\n",
       "      <th>capital_loss</th>\n",
       "      <th>hours_per_week</th>\n",
       "      <th>native_country</th>\n",
       "      <th>salary</th>\n",
       "    </tr>\n",
       "  </thead>\n",
       "  <tbody>\n",
       "    <tr>\n",
       "      <th>0</th>\n",
       "      <td>39</td>\n",
       "      <td>State-gov</td>\n",
       "      <td>77516</td>\n",
       "      <td>Bachelors</td>\n",
       "      <td>13</td>\n",
       "      <td>Never-married</td>\n",
       "      <td>Adm-clerical</td>\n",
       "      <td>Not-in-family</td>\n",
       "      <td>White</td>\n",
       "      <td>Male</td>\n",
       "      <td>2174</td>\n",
       "      <td>0</td>\n",
       "      <td>40</td>\n",
       "      <td>United-States</td>\n",
       "      <td>0</td>\n",
       "    </tr>\n",
       "    <tr>\n",
       "      <th>1</th>\n",
       "      <td>50</td>\n",
       "      <td>Self-emp-not-inc</td>\n",
       "      <td>83311</td>\n",
       "      <td>Bachelors</td>\n",
       "      <td>13</td>\n",
       "      <td>Married-civ-spouse</td>\n",
       "      <td>Exec-managerial</td>\n",
       "      <td>Husband</td>\n",
       "      <td>White</td>\n",
       "      <td>Male</td>\n",
       "      <td>0</td>\n",
       "      <td>0</td>\n",
       "      <td>13</td>\n",
       "      <td>United-States</td>\n",
       "      <td>0</td>\n",
       "    </tr>\n",
       "    <tr>\n",
       "      <th>2</th>\n",
       "      <td>38</td>\n",
       "      <td>Private</td>\n",
       "      <td>215646</td>\n",
       "      <td>HS-grad</td>\n",
       "      <td>9</td>\n",
       "      <td>Divorced</td>\n",
       "      <td>Handlers-cleaners</td>\n",
       "      <td>Not-in-family</td>\n",
       "      <td>White</td>\n",
       "      <td>Male</td>\n",
       "      <td>0</td>\n",
       "      <td>0</td>\n",
       "      <td>40</td>\n",
       "      <td>United-States</td>\n",
       "      <td>0</td>\n",
       "    </tr>\n",
       "    <tr>\n",
       "      <th>3</th>\n",
       "      <td>53</td>\n",
       "      <td>Private</td>\n",
       "      <td>234721</td>\n",
       "      <td>11th</td>\n",
       "      <td>7</td>\n",
       "      <td>Married-civ-spouse</td>\n",
       "      <td>Handlers-cleaners</td>\n",
       "      <td>Husband</td>\n",
       "      <td>Black</td>\n",
       "      <td>Male</td>\n",
       "      <td>0</td>\n",
       "      <td>0</td>\n",
       "      <td>40</td>\n",
       "      <td>United-States</td>\n",
       "      <td>0</td>\n",
       "    </tr>\n",
       "    <tr>\n",
       "      <th>4</th>\n",
       "      <td>28</td>\n",
       "      <td>Private</td>\n",
       "      <td>338409</td>\n",
       "      <td>Bachelors</td>\n",
       "      <td>13</td>\n",
       "      <td>Married-civ-spouse</td>\n",
       "      <td>Prof-specialty</td>\n",
       "      <td>Wife</td>\n",
       "      <td>Black</td>\n",
       "      <td>Female</td>\n",
       "      <td>0</td>\n",
       "      <td>0</td>\n",
       "      <td>40</td>\n",
       "      <td>Cuba</td>\n",
       "      <td>0</td>\n",
       "    </tr>\n",
       "    <tr>\n",
       "      <th>...</th>\n",
       "      <td>...</td>\n",
       "      <td>...</td>\n",
       "      <td>...</td>\n",
       "      <td>...</td>\n",
       "      <td>...</td>\n",
       "      <td>...</td>\n",
       "      <td>...</td>\n",
       "      <td>...</td>\n",
       "      <td>...</td>\n",
       "      <td>...</td>\n",
       "      <td>...</td>\n",
       "      <td>...</td>\n",
       "      <td>...</td>\n",
       "      <td>...</td>\n",
       "      <td>...</td>\n",
       "    </tr>\n",
       "    <tr>\n",
       "      <th>32556</th>\n",
       "      <td>27</td>\n",
       "      <td>Private</td>\n",
       "      <td>257302</td>\n",
       "      <td>Assoc-acdm</td>\n",
       "      <td>12</td>\n",
       "      <td>Married-civ-spouse</td>\n",
       "      <td>Tech-support</td>\n",
       "      <td>Wife</td>\n",
       "      <td>White</td>\n",
       "      <td>Female</td>\n",
       "      <td>0</td>\n",
       "      <td>0</td>\n",
       "      <td>38</td>\n",
       "      <td>United-States</td>\n",
       "      <td>0</td>\n",
       "    </tr>\n",
       "    <tr>\n",
       "      <th>32557</th>\n",
       "      <td>40</td>\n",
       "      <td>Private</td>\n",
       "      <td>154374</td>\n",
       "      <td>HS-grad</td>\n",
       "      <td>9</td>\n",
       "      <td>Married-civ-spouse</td>\n",
       "      <td>Machine-op-inspct</td>\n",
       "      <td>Husband</td>\n",
       "      <td>White</td>\n",
       "      <td>Male</td>\n",
       "      <td>0</td>\n",
       "      <td>0</td>\n",
       "      <td>40</td>\n",
       "      <td>United-States</td>\n",
       "      <td>1</td>\n",
       "    </tr>\n",
       "    <tr>\n",
       "      <th>32558</th>\n",
       "      <td>58</td>\n",
       "      <td>Private</td>\n",
       "      <td>151910</td>\n",
       "      <td>HS-grad</td>\n",
       "      <td>9</td>\n",
       "      <td>Widowed</td>\n",
       "      <td>Adm-clerical</td>\n",
       "      <td>Unmarried</td>\n",
       "      <td>White</td>\n",
       "      <td>Female</td>\n",
       "      <td>0</td>\n",
       "      <td>0</td>\n",
       "      <td>40</td>\n",
       "      <td>United-States</td>\n",
       "      <td>0</td>\n",
       "    </tr>\n",
       "    <tr>\n",
       "      <th>32559</th>\n",
       "      <td>22</td>\n",
       "      <td>Private</td>\n",
       "      <td>201490</td>\n",
       "      <td>HS-grad</td>\n",
       "      <td>9</td>\n",
       "      <td>Never-married</td>\n",
       "      <td>Adm-clerical</td>\n",
       "      <td>Own-child</td>\n",
       "      <td>White</td>\n",
       "      <td>Male</td>\n",
       "      <td>0</td>\n",
       "      <td>0</td>\n",
       "      <td>20</td>\n",
       "      <td>United-States</td>\n",
       "      <td>0</td>\n",
       "    </tr>\n",
       "    <tr>\n",
       "      <th>32560</th>\n",
       "      <td>52</td>\n",
       "      <td>Self-emp-inc</td>\n",
       "      <td>287927</td>\n",
       "      <td>HS-grad</td>\n",
       "      <td>9</td>\n",
       "      <td>Married-civ-spouse</td>\n",
       "      <td>Exec-managerial</td>\n",
       "      <td>Wife</td>\n",
       "      <td>White</td>\n",
       "      <td>Female</td>\n",
       "      <td>15024</td>\n",
       "      <td>0</td>\n",
       "      <td>40</td>\n",
       "      <td>United-States</td>\n",
       "      <td>1</td>\n",
       "    </tr>\n",
       "  </tbody>\n",
       "</table>\n",
       "<p>32561 rows × 15 columns</p>\n",
       "</div>"
      ],
      "text/plain": [
       "       age          workclass  fnlwgt    education  education_num  \\\n",
       "0       39          State-gov   77516    Bachelors             13   \n",
       "1       50   Self-emp-not-inc   83311    Bachelors             13   \n",
       "2       38            Private  215646      HS-grad              9   \n",
       "3       53            Private  234721         11th              7   \n",
       "4       28            Private  338409    Bachelors             13   \n",
       "...    ...                ...     ...          ...            ...   \n",
       "32556   27            Private  257302   Assoc-acdm             12   \n",
       "32557   40            Private  154374      HS-grad              9   \n",
       "32558   58            Private  151910      HS-grad              9   \n",
       "32559   22            Private  201490      HS-grad              9   \n",
       "32560   52       Self-emp-inc  287927      HS-grad              9   \n",
       "\n",
       "            marital_status          occupation    relationship    race  \\\n",
       "0            Never-married        Adm-clerical   Not-in-family   White   \n",
       "1       Married-civ-spouse     Exec-managerial         Husband   White   \n",
       "2                 Divorced   Handlers-cleaners   Not-in-family   White   \n",
       "3       Married-civ-spouse   Handlers-cleaners         Husband   Black   \n",
       "4       Married-civ-spouse      Prof-specialty            Wife   Black   \n",
       "...                    ...                 ...             ...     ...   \n",
       "32556   Married-civ-spouse        Tech-support            Wife   White   \n",
       "32557   Married-civ-spouse   Machine-op-inspct         Husband   White   \n",
       "32558              Widowed        Adm-clerical       Unmarried   White   \n",
       "32559        Never-married        Adm-clerical       Own-child   White   \n",
       "32560   Married-civ-spouse     Exec-managerial            Wife   White   \n",
       "\n",
       "           sex  capital_gain  capital_loss  hours_per_week  native_country  \\\n",
       "0         Male          2174             0              40   United-States   \n",
       "1         Male             0             0              13   United-States   \n",
       "2         Male             0             0              40   United-States   \n",
       "3         Male             0             0              40   United-States   \n",
       "4       Female             0             0              40            Cuba   \n",
       "...        ...           ...           ...             ...             ...   \n",
       "32556   Female             0             0              38   United-States   \n",
       "32557     Male             0             0              40   United-States   \n",
       "32558   Female             0             0              40   United-States   \n",
       "32559     Male             0             0              20   United-States   \n",
       "32560   Female         15024             0              40   United-States   \n",
       "\n",
       "       salary  \n",
       "0           0  \n",
       "1           0  \n",
       "2           0  \n",
       "3           0  \n",
       "4           0  \n",
       "...       ...  \n",
       "32556       0  \n",
       "32557       1  \n",
       "32558       0  \n",
       "32559       0  \n",
       "32560       1  \n",
       "\n",
       "[32561 rows x 15 columns]"
      ]
     },
     "execution_count": 5,
     "metadata": {},
     "output_type": "execute_result"
    }
   ],
   "source": [
    "import pandas as pd\n",
    "import numpy as np\n",
    "import matplotlib as nlp\n",
    "adult=pd.read_csv('adult.csv')\n",
    "adult"
   ]
  },
  {
   "cell_type": "markdown",
   "metadata": {},
   "source": [
    "1- By observing the data and without building a classification model, find out if the data requires scaling or not, and explain how you came to your conclusion and confirm this with a plot of the data."
   ]
  },
  {
   "cell_type": "markdown",
   "metadata": {},
   "source": [
    "<b>In step 1 </b>as we know that, each feature column might be having different scale measures, for some it would be the same and for others it would be different. But to plot all these feature data in one single plot is a difficult process. As you can see in the above plot, since all the feature columns are of different scale, the graph is displaying the data incorrectly.\n",
    "\n",
    "By using scaling, we can have a uniform scale that is applicable for all the feature columns, which will allow us to view the data on the graph and interpret some meaning from it.\n",
    "\n",
    "<b> Kernel Density Plot </b> or commonly known as <b> KDE plot</b> allows us to view these feature columns within a single plot. This plot is more effective for representing multiple values within a single plot. A <b> KDE plot</b> is utilized for visualization purpose, and it plots the <b> Probability density </b> for continuous type values.\n",
    "\n",
    "Just by looking at the dataframe, we can't arrive at a conclusion, so we plot the feature columns using the <b> KDE plot</b>. Based on the above plot, we can conclude that this plot definitely requires scaling to get a better perspective of the graph data we are trying to understand."
   ]
  },
  {
   "cell_type": "code",
   "execution_count": 6,
   "metadata": {},
   "outputs": [
    {
     "data": {
      "image/png": "[encoded data removed]",
      "text/plain": [
       "<Figure size 432x288 with 1 Axes>"
      ]
     },
     "metadata": {
      "needs_background": "light"
     },
     "output_type": "display_data"
    }
   ],
   "source": [
    "ax = adult.plot.kde()"
   ]
  },
  {
   "cell_type": "markdown",
   "metadata": {},
   "source": [
    "2- Apply the MinMaxScaler on the data and save it into a scaled version of the data."
   ]
  },
  {
   "cell_type": "markdown",
   "metadata": {},
   "source": [
    "<b>In step 2 </b>before performing scaling for our data, we need to understand our data. Our dataframe has <b>Categorical</b> values which cannot be plotted in a graph. In order to overcome this issue, we are importing <b>Label Encoder </b> package from <b> sklearn </b>. This package contains the <b>LabelEncoder()</b> function, which will allow us to convert non numerical data into numerical data for plotting purposes, which is also known as <b>Encoding </b>.\n",
    "\n",
    "After the encoding process is done, we are storing this under a new dataframe named <b>adult_encode</b>. For original data and scaling data differenes, we will be storing a copy of the dataframe into another data frame named <b> adult_encode_copy</b>.\n",
    "\n",
    "Now, our dataframe contains the encoded values, which will be make our job easier to plot the feature columns in a graph."
   ]
  },
  {
   "cell_type": "code",
   "execution_count": 7,
   "metadata": {},
   "outputs": [
    {
     "data": {
      "text/html": [
       "<div>\n",
       "<style scoped>\n",
       "    .dataframe tbody tr th:only-of-type {\n",
       "        vertical-align: middle;\n",
       "    }\n",
       "\n",
       "    .dataframe tbody tr th {\n",
       "        vertical-align: top;\n",
       "    }\n",
       "\n",
       "    .dataframe thead th {\n",
       "        text-align: right;\n",
       "    }\n",
       "</style>\n",
       "<table border=\"1\" class=\"dataframe\">\n",
       "  <thead>\n",
       "    <tr style=\"text-align: right;\">\n",
       "      <th></th>\n",
       "      <th>age</th>\n",
       "      <th>workclass</th>\n",
       "      <th>fnlwgt</th>\n",
       "      <th>education</th>\n",
       "      <th>education_num</th>\n",
       "      <th>marital_status</th>\n",
       "      <th>occupation</th>\n",
       "      <th>relationship</th>\n",
       "      <th>race</th>\n",
       "      <th>sex</th>\n",
       "      <th>capital_gain</th>\n",
       "      <th>capital_loss</th>\n",
       "      <th>hours_per_week</th>\n",
       "      <th>native_country</th>\n",
       "      <th>salary</th>\n",
       "    </tr>\n",
       "  </thead>\n",
       "  <tbody>\n",
       "    <tr>\n",
       "      <th>0</th>\n",
       "      <td>22</td>\n",
       "      <td>7</td>\n",
       "      <td>2671</td>\n",
       "      <td>9</td>\n",
       "      <td>12</td>\n",
       "      <td>4</td>\n",
       "      <td>1</td>\n",
       "      <td>1</td>\n",
       "      <td>4</td>\n",
       "      <td>1</td>\n",
       "      <td>25</td>\n",
       "      <td>0</td>\n",
       "      <td>39</td>\n",
       "      <td>39</td>\n",
       "      <td>0</td>\n",
       "    </tr>\n",
       "    <tr>\n",
       "      <th>1</th>\n",
       "      <td>33</td>\n",
       "      <td>6</td>\n",
       "      <td>2926</td>\n",
       "      <td>9</td>\n",
       "      <td>12</td>\n",
       "      <td>2</td>\n",
       "      <td>4</td>\n",
       "      <td>0</td>\n",
       "      <td>4</td>\n",
       "      <td>1</td>\n",
       "      <td>0</td>\n",
       "      <td>0</td>\n",
       "      <td>12</td>\n",
       "      <td>39</td>\n",
       "      <td>0</td>\n",
       "    </tr>\n",
       "    <tr>\n",
       "      <th>2</th>\n",
       "      <td>21</td>\n",
       "      <td>4</td>\n",
       "      <td>14086</td>\n",
       "      <td>11</td>\n",
       "      <td>8</td>\n",
       "      <td>0</td>\n",
       "      <td>6</td>\n",
       "      <td>1</td>\n",
       "      <td>4</td>\n",
       "      <td>1</td>\n",
       "      <td>0</td>\n",
       "      <td>0</td>\n",
       "      <td>39</td>\n",
       "      <td>39</td>\n",
       "      <td>0</td>\n",
       "    </tr>\n",
       "    <tr>\n",
       "      <th>3</th>\n",
       "      <td>36</td>\n",
       "      <td>4</td>\n",
       "      <td>15336</td>\n",
       "      <td>1</td>\n",
       "      <td>6</td>\n",
       "      <td>2</td>\n",
       "      <td>6</td>\n",
       "      <td>0</td>\n",
       "      <td>2</td>\n",
       "      <td>1</td>\n",
       "      <td>0</td>\n",
       "      <td>0</td>\n",
       "      <td>39</td>\n",
       "      <td>39</td>\n",
       "      <td>0</td>\n",
       "    </tr>\n",
       "    <tr>\n",
       "      <th>4</th>\n",
       "      <td>11</td>\n",
       "      <td>4</td>\n",
       "      <td>19355</td>\n",
       "      <td>9</td>\n",
       "      <td>12</td>\n",
       "      <td>2</td>\n",
       "      <td>10</td>\n",
       "      <td>5</td>\n",
       "      <td>2</td>\n",
       "      <td>0</td>\n",
       "      <td>0</td>\n",
       "      <td>0</td>\n",
       "      <td>39</td>\n",
       "      <td>5</td>\n",
       "      <td>0</td>\n",
       "    </tr>\n",
       "  </tbody>\n",
       "</table>\n",
       "</div>"
      ],
      "text/plain": [
       "   age  workclass  fnlwgt  education  education_num  marital_status  \\\n",
       "0   22          7    2671          9             12               4   \n",
       "1   33          6    2926          9             12               2   \n",
       "2   21          4   14086         11              8               0   \n",
       "3   36          4   15336          1              6               2   \n",
       "4   11          4   19355          9             12               2   \n",
       "\n",
       "   occupation  relationship  race  sex  capital_gain  capital_loss  \\\n",
       "0           1             1     4    1            25             0   \n",
       "1           4             0     4    1             0             0   \n",
       "2           6             1     4    1             0             0   \n",
       "3           6             0     2    1             0             0   \n",
       "4          10             5     2    0             0             0   \n",
       "\n",
       "   hours_per_week  native_country  salary  \n",
       "0              39              39       0  \n",
       "1              12              39       0  \n",
       "2              39              39       0  \n",
       "3              39              39       0  \n",
       "4              39               5       0  "
      ]
     },
     "execution_count": 7,
     "metadata": {},
     "output_type": "execute_result"
    }
   ],
   "source": [
    "import pandas as pd\n",
    "from sklearn.preprocessing import MinMaxScaler\n",
    "from sklearn.preprocessing import LabelEncoder\n",
    "\n",
    "le = LabelEncoder()\n",
    "adult_encode = adult.apply(le.fit_transform)\n",
    "adult_encode_copy=adult_encode.copy()\n",
    "adult_encode_copy.head()"
   ]
  },
  {
   "cell_type": "markdown",
   "metadata": {},
   "source": [
    "Now, we will be using <b> Min Max Scaler</b> for scaling our feature data. <b> Min Max Scaler</b> allows us to transform the feature data. This is achieved by using a specific range for the feature columns and then using this to scale each feature data to the specific range provided. For Scaling, the feature range commonly used would be from 0 to 1. <b> Min Max Scaler</b> reduces the min value in the feature and then it divides by the range value.\n",
    "\n",
    "<b> Min Max Scaler</b> preserves the shape of feature data and therfore not altering the data during the scaling process.\n",
    "\n",
    "In order to use the <b> Min Max Scaler</b>, we will be importing the <b> Min Max Scaler Package</b> from <b>Sklearn</b> and then we will use the function <b> MinMaxScaler()</b> to perform the scaling for our encoded data.\n",
    "\n",
    "After performing this task, we are now going to save the scaled data within a new dataframe named <b>adult_scaled</b>.\n",
    "\n",
    "Now that we have scaled, we will be using this scaled datframe to plot our feature data within a <b> KDE</b> plot."
   ]
  },
  {
   "cell_type": "code",
   "execution_count": 8,
   "metadata": {},
   "outputs": [
    {
     "data": {
      "text/html": [
       "<div>\n",
       "<style scoped>\n",
       "    .dataframe tbody tr th:only-of-type {\n",
       "        vertical-align: middle;\n",
       "    }\n",
       "\n",
       "    .dataframe tbody tr th {\n",
       "        vertical-align: top;\n",
       "    }\n",
       "\n",
       "    .dataframe thead th {\n",
       "        text-align: right;\n",
       "    }\n",
       "</style>\n",
       "<table border=\"1\" class=\"dataframe\">\n",
       "  <thead>\n",
       "    <tr style=\"text-align: right;\">\n",
       "      <th></th>\n",
       "      <th>0</th>\n",
       "      <th>1</th>\n",
       "      <th>2</th>\n",
       "      <th>3</th>\n",
       "      <th>4</th>\n",
       "      <th>5</th>\n",
       "      <th>6</th>\n",
       "      <th>7</th>\n",
       "      <th>8</th>\n",
       "      <th>9</th>\n",
       "      <th>10</th>\n",
       "      <th>11</th>\n",
       "      <th>12</th>\n",
       "      <th>13</th>\n",
       "      <th>14</th>\n",
       "    </tr>\n",
       "  </thead>\n",
       "  <tbody>\n",
       "    <tr>\n",
       "      <th>0</th>\n",
       "      <td>0.305556</td>\n",
       "      <td>0.875</td>\n",
       "      <td>0.123389</td>\n",
       "      <td>0.600000</td>\n",
       "      <td>0.800000</td>\n",
       "      <td>0.666667</td>\n",
       "      <td>0.071429</td>\n",
       "      <td>0.2</td>\n",
       "      <td>1.0</td>\n",
       "      <td>1.0</td>\n",
       "      <td>0.211864</td>\n",
       "      <td>0.0</td>\n",
       "      <td>0.419355</td>\n",
       "      <td>0.951220</td>\n",
       "      <td>0.0</td>\n",
       "    </tr>\n",
       "    <tr>\n",
       "      <th>1</th>\n",
       "      <td>0.458333</td>\n",
       "      <td>0.750</td>\n",
       "      <td>0.135169</td>\n",
       "      <td>0.600000</td>\n",
       "      <td>0.800000</td>\n",
       "      <td>0.333333</td>\n",
       "      <td>0.285714</td>\n",
       "      <td>0.0</td>\n",
       "      <td>1.0</td>\n",
       "      <td>1.0</td>\n",
       "      <td>0.000000</td>\n",
       "      <td>0.0</td>\n",
       "      <td>0.129032</td>\n",
       "      <td>0.951220</td>\n",
       "      <td>0.0</td>\n",
       "    </tr>\n",
       "    <tr>\n",
       "      <th>2</th>\n",
       "      <td>0.291667</td>\n",
       "      <td>0.500</td>\n",
       "      <td>0.650714</td>\n",
       "      <td>0.733333</td>\n",
       "      <td>0.533333</td>\n",
       "      <td>0.000000</td>\n",
       "      <td>0.428571</td>\n",
       "      <td>0.2</td>\n",
       "      <td>1.0</td>\n",
       "      <td>1.0</td>\n",
       "      <td>0.000000</td>\n",
       "      <td>0.0</td>\n",
       "      <td>0.419355</td>\n",
       "      <td>0.951220</td>\n",
       "      <td>0.0</td>\n",
       "    </tr>\n",
       "    <tr>\n",
       "      <th>3</th>\n",
       "      <td>0.500000</td>\n",
       "      <td>0.500</td>\n",
       "      <td>0.708458</td>\n",
       "      <td>0.066667</td>\n",
       "      <td>0.400000</td>\n",
       "      <td>0.333333</td>\n",
       "      <td>0.428571</td>\n",
       "      <td>0.0</td>\n",
       "      <td>0.5</td>\n",
       "      <td>1.0</td>\n",
       "      <td>0.000000</td>\n",
       "      <td>0.0</td>\n",
       "      <td>0.419355</td>\n",
       "      <td>0.951220</td>\n",
       "      <td>0.0</td>\n",
       "    </tr>\n",
       "    <tr>\n",
       "      <th>4</th>\n",
       "      <td>0.152778</td>\n",
       "      <td>0.500</td>\n",
       "      <td>0.894119</td>\n",
       "      <td>0.600000</td>\n",
       "      <td>0.800000</td>\n",
       "      <td>0.333333</td>\n",
       "      <td>0.714286</td>\n",
       "      <td>1.0</td>\n",
       "      <td>0.5</td>\n",
       "      <td>0.0</td>\n",
       "      <td>0.000000</td>\n",
       "      <td>0.0</td>\n",
       "      <td>0.419355</td>\n",
       "      <td>0.121951</td>\n",
       "      <td>0.0</td>\n",
       "    </tr>\n",
       "    <tr>\n",
       "      <th>...</th>\n",
       "      <td>...</td>\n",
       "      <td>...</td>\n",
       "      <td>...</td>\n",
       "      <td>...</td>\n",
       "      <td>...</td>\n",
       "      <td>...</td>\n",
       "      <td>...</td>\n",
       "      <td>...</td>\n",
       "      <td>...</td>\n",
       "      <td>...</td>\n",
       "      <td>...</td>\n",
       "      <td>...</td>\n",
       "      <td>...</td>\n",
       "      <td>...</td>\n",
       "      <td>...</td>\n",
       "    </tr>\n",
       "    <tr>\n",
       "      <th>32556</th>\n",
       "      <td>0.138889</td>\n",
       "      <td>0.500</td>\n",
       "      <td>0.763524</td>\n",
       "      <td>0.466667</td>\n",
       "      <td>0.733333</td>\n",
       "      <td>0.333333</td>\n",
       "      <td>0.928571</td>\n",
       "      <td>1.0</td>\n",
       "      <td>1.0</td>\n",
       "      <td>0.0</td>\n",
       "      <td>0.000000</td>\n",
       "      <td>0.0</td>\n",
       "      <td>0.397849</td>\n",
       "      <td>0.951220</td>\n",
       "      <td>0.0</td>\n",
       "    </tr>\n",
       "    <tr>\n",
       "      <th>32557</th>\n",
       "      <td>0.319444</td>\n",
       "      <td>0.500</td>\n",
       "      <td>0.373262</td>\n",
       "      <td>0.733333</td>\n",
       "      <td>0.533333</td>\n",
       "      <td>0.333333</td>\n",
       "      <td>0.500000</td>\n",
       "      <td>0.0</td>\n",
       "      <td>1.0</td>\n",
       "      <td>1.0</td>\n",
       "      <td>0.000000</td>\n",
       "      <td>0.0</td>\n",
       "      <td>0.419355</td>\n",
       "      <td>0.951220</td>\n",
       "      <td>1.0</td>\n",
       "    </tr>\n",
       "    <tr>\n",
       "      <th>32558</th>\n",
       "      <td>0.569444</td>\n",
       "      <td>0.500</td>\n",
       "      <td>0.364161</td>\n",
       "      <td>0.733333</td>\n",
       "      <td>0.533333</td>\n",
       "      <td>1.000000</td>\n",
       "      <td>0.071429</td>\n",
       "      <td>0.8</td>\n",
       "      <td>1.0</td>\n",
       "      <td>0.0</td>\n",
       "      <td>0.000000</td>\n",
       "      <td>0.0</td>\n",
       "      <td>0.419355</td>\n",
       "      <td>0.951220</td>\n",
       "      <td>0.0</td>\n",
       "    </tr>\n",
       "    <tr>\n",
       "      <th>32559</th>\n",
       "      <td>0.069444</td>\n",
       "      <td>0.500</td>\n",
       "      <td>0.595048</td>\n",
       "      <td>0.733333</td>\n",
       "      <td>0.533333</td>\n",
       "      <td>0.666667</td>\n",
       "      <td>0.071429</td>\n",
       "      <td>0.6</td>\n",
       "      <td>1.0</td>\n",
       "      <td>1.0</td>\n",
       "      <td>0.000000</td>\n",
       "      <td>0.0</td>\n",
       "      <td>0.204301</td>\n",
       "      <td>0.951220</td>\n",
       "      <td>0.0</td>\n",
       "    </tr>\n",
       "    <tr>\n",
       "      <th>32560</th>\n",
       "      <td>0.486111</td>\n",
       "      <td>0.625</td>\n",
       "      <td>0.823440</td>\n",
       "      <td>0.733333</td>\n",
       "      <td>0.533333</td>\n",
       "      <td>0.333333</td>\n",
       "      <td>0.285714</td>\n",
       "      <td>1.0</td>\n",
       "      <td>1.0</td>\n",
       "      <td>0.0</td>\n",
       "      <td>0.915254</td>\n",
       "      <td>0.0</td>\n",
       "      <td>0.419355</td>\n",
       "      <td>0.951220</td>\n",
       "      <td>1.0</td>\n",
       "    </tr>\n",
       "  </tbody>\n",
       "</table>\n",
       "<p>32561 rows × 15 columns</p>\n",
       "</div>"
      ],
      "text/plain": [
       "              0      1         2         3         4         5         6    7  \\\n",
       "0      0.305556  0.875  0.123389  0.600000  0.800000  0.666667  0.071429  0.2   \n",
       "1      0.458333  0.750  0.135169  0.600000  0.800000  0.333333  0.285714  0.0   \n",
       "2      0.291667  0.500  0.650714  0.733333  0.533333  0.000000  0.428571  0.2   \n",
       "3      0.500000  0.500  0.708458  0.066667  0.400000  0.333333  0.428571  0.0   \n",
       "4      0.152778  0.500  0.894119  0.600000  0.800000  0.333333  0.714286  1.0   \n",
       "...         ...    ...       ...       ...       ...       ...       ...  ...   \n",
       "32556  0.138889  0.500  0.763524  0.466667  0.733333  0.333333  0.928571  1.0   \n",
       "32557  0.319444  0.500  0.373262  0.733333  0.533333  0.333333  0.500000  0.0   \n",
       "32558  0.569444  0.500  0.364161  0.733333  0.533333  1.000000  0.071429  0.8   \n",
       "32559  0.069444  0.500  0.595048  0.733333  0.533333  0.666667  0.071429  0.6   \n",
       "32560  0.486111  0.625  0.823440  0.733333  0.533333  0.333333  0.285714  1.0   \n",
       "\n",
       "         8    9        10   11        12        13   14  \n",
       "0      1.0  1.0  0.211864  0.0  0.419355  0.951220  0.0  \n",
       "1      1.0  1.0  0.000000  0.0  0.129032  0.951220  0.0  \n",
       "2      1.0  1.0  0.000000  0.0  0.419355  0.951220  0.0  \n",
       "3      0.5  1.0  0.000000  0.0  0.419355  0.951220  0.0  \n",
       "4      0.5  0.0  0.000000  0.0  0.419355  0.121951  0.0  \n",
       "...    ...  ...       ...  ...       ...       ...  ...  \n",
       "32556  1.0  0.0  0.000000  0.0  0.397849  0.951220  0.0  \n",
       "32557  1.0  1.0  0.000000  0.0  0.419355  0.951220  1.0  \n",
       "32558  1.0  0.0  0.000000  0.0  0.419355  0.951220  0.0  \n",
       "32559  1.0  1.0  0.000000  0.0  0.204301  0.951220  0.0  \n",
       "32560  1.0  0.0  0.915254  0.0  0.419355  0.951220  1.0  \n",
       "\n",
       "[32561 rows x 15 columns]"
      ]
     },
     "execution_count": 8,
     "metadata": {},
     "output_type": "execute_result"
    }
   ],
   "source": [
    "x = adult_encode.values \n",
    "min_max_scaler = MinMaxScaler()\n",
    "x_scaled = min_max_scaler.fit_transform(x)\n",
    "adult_scaled = pd.DataFrame(x_scaled)\n",
    "adult_scaled\n",
    "#adult_scaled_normal = le.inverse_transform()\n",
    "#adult_scaled_normal"
   ]
  },
  {
   "cell_type": "code",
   "execution_count": 9,
   "metadata": {},
   "outputs": [
    {
     "data": {
      "image/png": "[encoded data removed]",
      "text/plain": [
       "<Figure size 432x288 with 1 Axes>"
      ]
     },
     "metadata": {
      "needs_background": "light"
     },
     "output_type": "display_data"
    }
   ],
   "source": [
    "ax_scaled = adult_scaled.plot.kde()"
   ]
  },
  {
   "cell_type": "markdown",
   "metadata": {},
   "source": [
    "Now we can clearly see the plot with all the feature datas plotted in a single graph using <b> KDE </b> plot. Since our dataframe has more feature columns, some of the column data which has low values are overlapped with other feature column values. Earlier we saw that the column names were represented, but now every column name is represented as numbers. This is due to the <b> Encoding</b> process, which allowed us to plot the data.\n",
    "\n",
    "The most important part here is that, we got to fit all the feature coumns under a common scale which will allow us to visualize the data using <b> KDE</b> plot.\n",
    "\n",
    "For reference purpose, I have included the numbered feature columns with their respectful name for understanding which data belongs to the numbers\n",
    "\n",
    "- <b>0 :</b><b>age</b>: continuous.\n",
    "- <b>1 :</b><b>workclass</b>: Private, Self-emp-not-inc, Self-emp-inc, Federal-gov, Local-gov, State-gov, Without-pay, Never-worked.\n",
    "- <b>2 :</b><b>fnlwgt</b>: continuous.\n",
    "- <b>3 :</b><b>education</b>: Bachelors, Some-college, 11th, HS-grad, Prof-school, Assoc-acdm, Assoc-voc, 9th, 7th-8th, 12th, Masters, 1st-4th, 10th,Doctorate, 5th-6th, Preschool.\n",
    "- <b>4 :</b><b>education-num</b>: continuous.\n",
    "- <b>5 :</b><b>marital-status</b>: Married-civ-spouse, Divorced, Never-married, Separated, Widowed, Married-spouse-absent, Married-AF-spouse.\n",
    "- <b>6 :</b><b>occupation</b>: Tech-support, Craft-repair, Other-service, Sales, Exec-managerial, Prof-specialty, Handlers-cleaners, Machine-op-inspct, Adm-clerical, Farming-fishing, Transport-moving, Priv-house-serv, Protective-serv, Armed-Forces.\n",
    "- <b>7 :</b><b>relationship</b>: Wife, Own-child, Husband, Not-in-family, Other-relative, Unmarried.\n",
    "- <b>8 :</b><b>race</b>: White, Asian-Pac-Islander, Amer-Indian-Eskimo, Other, Black.\n",
    "- <b>9 :</b><b>sex</b>: Female, Male.\n",
    "- <b>10 :</b><b>capital-gain</b>: continuous.\n",
    "- <b>11 :</b><b>capital-loss</b>: continuous.\n",
    "- <b>12 :</b><b>hours-per-week</b>: continuous.\n",
    "- <b>13 :</b><b>native-country</b>: United-States, Cambodia, England, Puerto-Rico, Canada, Germany, Outlying-US(Guam-USVI-etc), India, Japan, Greece, South, China, Cuba, Iran, Honduras, Philippines, Italy, Poland, Jamaica, Vietnam, Mexico, Portugal, Ireland, France, Dominican-Republic, Laos, Ecuador, Taiwan, Haiti, Columbia, Hungary, Guatemala, Nicaragua, Scotland, Thailand, Yugoslavia, El-Salvador, Trinadad&Tobago, Peru, Hong, Holand-Netherlands.\n",
    "- <b>14 :</b><b>salary</b> : binary, with 0 for less than or equal to 50K salary and 1 for greater than 50K salary."
   ]
  },
  {
   "cell_type": "markdown",
   "metadata": {},
   "source": [
    "3- Split the data into 5% testing and 95% training data.\n",
    "\n"
   ]
  },
  {
   "cell_type": "markdown",
   "metadata": {},
   "source": [
    "<b>In step 3</b> now that we are done with generating a pot for the scaled data earlier, we will now split our data into <b>Training data </b> and <b>Testing data </b>. \n",
    "\n",
    "For this we will be importing the <b> train_test_split</b> package from <b> sklearn</b> for splitting the data. The <b>train_test_split </b> function will allow us to split the data into <b>Training data </b> and <b>Testing data </b>. \n",
    "\n",
    "Now, we will be using two dataframe for splitting purposes and for viewing accuracies for a particular dataframe. We are now going to use the <b> Scaled Dataframe</b> and <b> Original Dataframe </b> for splitting. \n",
    "\n",
    "We will be using <b>adult_encode_copy</b> for original dataframe and <b>adult_scaled </b> for scaled dataframe.\n",
    "\n",
    "Based on what we see above, we are taking two feature columns with one holding <b>Categorical Data </b> and the other one holding <b>Binary Classification Data </b>. We are using the feature data column name for referencing in the original dataframe and numbers for the scaled data column name as it is <b> Encoded</b>.\n",
    "\n",
    "Using the <b> train_test_split</b> function we are splitting the data into\n",
    "\n",
    "- <b> X_train</b>\n",
    "- <b> X_test</b>\n",
    "- <b> y_train</b>\n",
    "- <b> y_test</b> \n",
    "\n",
    "for the <b>Original Dataframe </b>\n",
    "\n",
    "and\n",
    "\n",
    "- <b> X_train_scaled</b>\n",
    "- <b> X_test_scaled</b>\n",
    "- <b> y_train_scaled</b>\n",
    "- <b> y_test_scaled</b> \n",
    "\n",
    "for the <b>Scaled Dataframe </b>\n",
    "\n",
    "Along with this, we are providing the initial training data size of <b> 95% </b> and testing data size of <b> 5% </b> when splitting the data."
   ]
  },
  {
   "cell_type": "code",
   "execution_count": 10,
   "metadata": {},
   "outputs": [],
   "source": [
    "#original data split\n",
    "from sklearn.model_selection import train_test_split\n",
    "X=adult_encode_copy[['education']] #education\n",
    "y=adult_encode_copy[['salary']] #salary\n",
    "X_train, X_test, y_train, y_test = train_test_split(X, y,train_size=0.95,test_size=0.05, random_state=19)\n",
    "\n",
    "#Sacaled data split\n",
    "from sklearn.model_selection import train_test_split\n",
    "X_scaled=adult_scaled[[4]]\n",
    "y_scaled=adult_scaled[[14]]\n",
    "X_train_scaled, X_test_scaled, y_train_scaled, y_test_scaled = train_test_split(X_scaled, y_scaled,train_size=0.95,test_size=0.05, random_state=19)"
   ]
  },
  {
   "cell_type": "markdown",
   "metadata": {},
   "source": [
    "4- Build a classification model for the original data and the scaled data using the following methods:\n",
    " - Decision trees with no parameters.\n",
    " - Linear perceptron.\n",
    " - Linear SVM.\n",
    "\n"
   ]
  },
  {
   "cell_type": "markdown",
   "metadata": {},
   "source": [
    "<b>In step 4</b>, we will build a classification model for the original data and scaled data.\n",
    "\n",
    "Firstly, we will be implementing the <b> Decision Tree Classification Model</b> for classifiying our data. \n",
    "\n",
    "For this we will be importing the <b> DecisionTreeClassifier </b> package from <b> sklearn </b> which can be used to create the model. Now, after importing the package, we will use the <b>DecisionTreeClassifier()</b> function and store it in a variable, which can later be used for calculating the accuracy.\n",
    "\n",
    "Now, we will fit the original training data within the model and try to predict the accuracy.\n",
    "\n",
    "Based on the below data, we can see that our model achieved <b> 78.01 %</b> accuracy for training and <b> 76.98 % </b> accuracy for testing.\n",
    "This shows us that our model is predicting very well and it is a good model for prediction before scaling."
   ]
  },
  {
   "cell_type": "code",
   "execution_count": 11,
   "metadata": {},
   "outputs": [],
   "source": [
    "#original data decision tree\n",
    "from sklearn.tree import DecisionTreeClassifier\n",
    "from sklearn import metrics\n",
    "clf_dec = DecisionTreeClassifier()\n",
    "clf_dec.fit(X_train,y_train)\n",
    "#y_pred = clf_dec.predict(X_test)\n",
    "\n",
    "acc_train_decision_original = clf_dec.score(X_train, y_train) \n",
    "acc_test_decision_original = clf_dec.score(X_test, y_test)"
   ]
  },
  {
   "cell_type": "code",
   "execution_count": 12,
   "metadata": {},
   "outputs": [
    {
     "name": "stdout",
     "output_type": "stream",
     "text": [
      "Accuracy on the training data before scaling is 78.01.\n",
      "Accuracy on the test data before scaling is 76.98.\n"
     ]
    }
   ],
   "source": [
    "#print(\"Accuracy on original test data:\",metrics.accuracy_score(y_test, y_pred))\n",
    "#clf_dec.score\n",
    "print(f\"Accuracy on the training data before scaling is {acc_train_decision_original*100:.2f}.\")\n",
    "print(f\"Accuracy on the test data before scaling is {acc_test_decision_original*100:.2f}.\")"
   ]
  },
  {
   "cell_type": "markdown",
   "metadata": {},
   "source": [
    "Now, we will fit the scaled training data within the model and try to predict the accuracy.\n",
    "\n",
    "Based on the below data, we can see that our model achieved <b> 78.01 %</b> accuracy for training and <b> 76.98 % </b> accuracy for testing.\n",
    "This shows us that our model is predicting very well and it is still a good model for prediction after scaling.\n",
    "\n",
    "We can improve the accuracy by modifying the parameters within the algorithm.\n",
    "\n",
    "We are still getting a good prediction with the current model, but the reason that it can't get a better prediction might be due to the fact that <b> Decision Trees Model</b> struggles with categorical feature data."
   ]
  },
  {
   "cell_type": "code",
   "execution_count": 13,
   "metadata": {},
   "outputs": [],
   "source": [
    "#scaled data decision tree\n",
    "from sklearn.tree import DecisionTreeClassifier\n",
    "from sklearn import metrics\n",
    "clf_dec_scaled = DecisionTreeClassifier()\n",
    "clf_dec_scaled.fit(X_train_scaled,y_train_scaled)\n",
    "\n",
    "\n",
    "#y_pred_scaled = clf_dec_scaled.predict(X_test_scaled)\n",
    "\n",
    "acc_train_decision_scaled = clf_dec_scaled.score(X_train_scaled, y_train_scaled) \n",
    "acc_test_decision_scaled = clf_dec_scaled.score(X_test_scaled, y_test_scaled)"
   ]
  },
  {
   "cell_type": "code",
   "execution_count": 14,
   "metadata": {},
   "outputs": [
    {
     "name": "stdout",
     "output_type": "stream",
     "text": [
      "Accuracy on the training data after scaling is 78.01.\n",
      "Accuracy on the test data after scaling is 76.98.\n"
     ]
    }
   ],
   "source": [
    "#print(\"Accuracy on scaled test data:\",metrics.accuracy_score(y_test_scaled, y_pred_scaled))\n",
    "#clf_dec_scaled.score\n",
    "print(f\"Accuracy on the training data after scaling is {acc_train_decision_scaled *100:.2f}.\")\n",
    "print(f\"Accuracy on the test data after scaling is {acc_test_decision_scaled*100:.2f}.\")"
   ]
  },
  {
   "cell_type": "markdown",
   "metadata": {},
   "source": [
    "Secondly, we will now build a model using <b> Linear Perceptron </b>. For this we will be using our original and scaled dataframes as we did before. This will be used for classifying our data as well.\n",
    "\n",
    "Here, we will be using the <b> Original Dataframe</b> first for predicting the accuracy.\n",
    "\n",
    "For this we will be importing the <b> linear_model</b> package from <b> sklearn</b> and we will be using <b>SGDCClassifier </b> for building a model.\n",
    "\n",
    "Here <b> Perceptron </b> is based on the idea of our <b>biological neuron</b>. <b>Perceptron</b> recieves many inputs, but it produces only one output. These multiple inputs are fed to the linear model which inturn produces one <b>Binary Output</b>, which is the idea behind this classification model. Each feature has a weight assigned, based on the weight we can say how the model is going to perform. The higher the weight, there will be better influence on the output produced. It also has an intercept which will help the model to fit in the best way it can.\n",
    "\n",
    "After building the model we will fit the training values into the model and then use it for calculating the accuracy for training and testing data.\n",
    "\n",
    "Based on the below data we can see that the training and testing accuracies for our original dataframe before scaling is <b> 75.89 %</b> for training data and <b> 76.55 %</b> for testing data.\n",
    "\n",
    "Based on this we can say that our model is good at prediction before scaling."
   ]
  },
  {
   "cell_type": "code",
   "execution_count": 15,
   "metadata": {},
   "outputs": [
    {
     "name": "stderr",
     "output_type": "stream",
     "text": [
      "E:\\Python\\lib\\site-packages\\sklearn\\utils\\validation.py:760: DataConversionWarning: A column-vector y was passed when a 1d array was expected. Please change the shape of y to (n_samples, ), for example using ravel().\n",
      "  y = column_or_1d(y, warn=True)\n"
     ]
    }
   ],
   "source": [
    "#Perceptron original\n",
    "from sklearn import linear_model\n",
    "from sklearn.model_selection import train_test_split\n",
    "clf_perceptron = linear_model.SGDClassifier(loss=\"perceptron\",max_iter=1000,eta0=1)\n",
    "clf_perceptron.fit(X_train, y_train)\n",
    "#y_pred_perceptron = clf_perceptron.predict(X_test)\n",
    "\n",
    "acc_train_perceptron_original = clf_perceptron.score(X_train, y_train) \n",
    "acc_test_perceptron_original = clf_perceptron.score(X_test, y_test)"
   ]
  },
  {
   "cell_type": "code",
   "execution_count": 16,
   "metadata": {},
   "outputs": [
    {
     "name": "stdout",
     "output_type": "stream",
     "text": [
      "Accuracy on the training data before scaling is 75.89.\n",
      "Accuracy on the test data before scaling is 76.55.\n"
     ]
    }
   ],
   "source": [
    "#print(\"Accuracy on original test data:\",metrics.accuracy_score(y_test, y_pred_perceptron))\n",
    "#clf_perceptron.score\n",
    "print(f\"Accuracy on the training data before scaling is {acc_train_perceptron_original*100:.2f}.\")\n",
    "print(f\"Accuracy on the test data before scaling is {acc_test_perceptron_original*100:.2f}.\")"
   ]
  },
  {
   "cell_type": "markdown",
   "metadata": {},
   "source": [
    "Here, we will be using the <b> Scaled Dataframe</b> for predicting the accuracy.\n",
    "\n",
    "After predicting the accuracies using the model, we can see that the model has an accuracy of <b> 75.89 %</b> for training data and <b> 76.55 %</b> for testing data  and improved to <b>77.34</b> and <b>77.72</b> for training and testing after scaling respectively.\n",
    "\n",
    "This shows that our model is still good at prediction.\n",
    "\n",
    "This could be due to the dataset and how the training is done. As far as this goes, it appears to be a good implementation and it predicts very well for this data using the <b> Linear Perceptron</b> model."
   ]
  },
  {
   "cell_type": "code",
   "execution_count": 17,
   "metadata": {},
   "outputs": [
    {
     "name": "stderr",
     "output_type": "stream",
     "text": [
      "E:\\Python\\lib\\site-packages\\sklearn\\utils\\validation.py:760: DataConversionWarning: A column-vector y was passed when a 1d array was expected. Please change the shape of y to (n_samples, ), for example using ravel().\n",
      "  y = column_or_1d(y, warn=True)\n"
     ]
    }
   ],
   "source": [
    "#Perceptron scaled\n",
    "from sklearn import linear_model\n",
    "from sklearn.model_selection import train_test_split\n",
    "clf_perceptron_scaled = linear_model.SGDClassifier(loss=\"perceptron\",max_iter=1000,eta0=1)\n",
    "clf_perceptron_scaled.fit(X_train_scaled, y_train_scaled)\n",
    "#y_pred_scaled_perceptron = clf_dec_scaled.predict(X_test_scaled)\n",
    "\n",
    "acc_train_perceptron_scaled = clf_perceptron_scaled.score(X_train_scaled, y_train_scaled) \n",
    "acc_test_perceptron_scaled = clf_perceptron_scaled.score(X_test_scaled, y_test_scaled)"
   ]
  },
  {
   "cell_type": "code",
   "execution_count": 18,
   "metadata": {},
   "outputs": [
    {
     "name": "stdout",
     "output_type": "stream",
     "text": [
      "Accuracy on the training data after scaling is 78.01.\n",
      "Accuracy on the test data after scaling is 76.98.\n"
     ]
    }
   ],
   "source": [
    "#print(\"Accuracy on scaled test data:\",metrics.accuracy_score(y_test_scaled,y_pred_scaled_perceptron))\n",
    "#clf_perceptron_scaled.score\n",
    "\n",
    "print(f\"Accuracy on the training data after scaling is {acc_train_perceptron_scaled *100:.2f}.\")\n",
    "print(f\"Accuracy on the test data after scaling is {acc_test_perceptron_scaled *100:.2f}.\")"
   ]
  },
  {
   "cell_type": "markdown",
   "metadata": {},
   "source": [
    "Finally, we will now be using <b> Support Vector Machine (SVM)</b> model for classification.\n",
    "\n",
    "As we did before, here will be using both the original and the scaled dataframes for predicting the accuracies.\n",
    "\n",
    "Now we will predict the accuracy for <b> Original Dataframe</b>.\n",
    "\n",
    "We need to import the <b> SVC Classifier</b> package from <b>sklearn.svm</b> which utilizes the Support Vector Machines for classifying the data.\n",
    "\n",
    "Here we are using the <b> SVC</b> function to build a model. We are assigning <b>Kernel </b>equivalent to <b> Linear</b> because the kernel provides the way of how to represent the values for the model. It provides a view for the machine learning models to see how the data can be represented. Here we are using <b> Linear </b> to fit our data within the Linear Support Vector Machine model.\n",
    "\n",
    "SVM is easy to use, but it has some issues when it comes to the outliers and creating new training model.\n",
    "\n",
    "We will now fit the training data within the model and then we will predict the accuracy.\n",
    "\n",
    "Based on the results below, we can see that our model was able to achieve an accuracy of <b> 75.89 %</b> for training data and <b> 76.55% </b> for testing data."
   ]
  },
  {
   "cell_type": "code",
   "execution_count": 19,
   "metadata": {},
   "outputs": [
    {
     "name": "stderr",
     "output_type": "stream",
     "text": [
      "E:\\Python\\lib\\site-packages\\sklearn\\utils\\validation.py:760: DataConversionWarning: A column-vector y was passed when a 1d array was expected. Please change the shape of y to (n_samples, ), for example using ravel().\n",
      "  y = column_or_1d(y, warn=True)\n"
     ]
    }
   ],
   "source": [
    "#SVM original\n",
    "from sklearn.svm import SVC # \"Support vector classifier\"\n",
    "lsv_svm_original = SVC(kernel='linear',C=1)\n",
    "lsv_svm_original.fit(X_train, y_train)\n",
    "#y_pred_svm_original = lsv_svm_original.predict(X_test)\n",
    "\n",
    "acc_train_svm_original = lsv_svm_original.score(X_train, y_train) \n",
    "acc_test_svm_original = lsv_svm_original.score(X_test, y_test)"
   ]
  },
  {
   "cell_type": "code",
   "execution_count": 20,
   "metadata": {},
   "outputs": [
    {
     "name": "stdout",
     "output_type": "stream",
     "text": [
      "Accuracy on the training data before scaling is 75.89.\n",
      "Accuracy on the test data before scaling is 76.55.\n"
     ]
    }
   ],
   "source": [
    "#print(\"Accuracy on original test data:\",metrics.accuracy_score(y_test, y_pred_svm_original))\n",
    "#lsv_svm_original.score\n",
    "\n",
    "print(f\"Accuracy on the training data before scaling is {acc_train_svm_original*100:.2f}.\")\n",
    "print(f\"Accuracy on the test data before scaling is {acc_test_svm_original*100:.2f}.\")"
   ]
  },
  {
   "cell_type": "markdown",
   "metadata": {},
   "source": [
    "Here, we will be using the <b>Scaled Dataframe </b> for predicting the accuracies.\n",
    "\n",
    "After prediction, we can see that our model was able to achieve an accuracy of <b> 75.89 %</b> for training data and <b> 76.55 %</b> for testing data. Based on this we can say that our model is good at prediction even after scaling. Overall, the model did good prediction before scaling and after scaling."
   ]
  },
  {
   "cell_type": "code",
   "execution_count": 21,
   "metadata": {},
   "outputs": [
    {
     "name": "stderr",
     "output_type": "stream",
     "text": [
      "E:\\Python\\lib\\site-packages\\sklearn\\utils\\validation.py:760: DataConversionWarning: A column-vector y was passed when a 1d array was expected. Please change the shape of y to (n_samples, ), for example using ravel().\n",
      "  y = column_or_1d(y, warn=True)\n"
     ]
    }
   ],
   "source": [
    "#SVM scaled\n",
    "from sklearn.svm import SVC # \"Support vector classifier\"\n",
    "lsv_svm_scaled = SVC(kernel='linear',C=1)\n",
    "lsv_svm_scaled.fit(X_train_scaled, y_train_scaled)\n",
    "#y_pred_svm_scaled = lsv_svm_scaled.predict(X_test_scaled)\n",
    "\n",
    "acc_train_svm_scaled = lsv_svm_scaled.score(X_train_scaled, y_train_scaled) \n",
    "acc_test_svm_scaled = lsv_svm_scaled.score(X_test_scaled, y_test_scaled)"
   ]
  },
  {
   "cell_type": "code",
   "execution_count": 22,
   "metadata": {},
   "outputs": [
    {
     "name": "stdout",
     "output_type": "stream",
     "text": [
      "Accuracy on the training data after scaling is 75.89.\n",
      "Accuracy on the test data after scaling is 76.55.\n"
     ]
    }
   ],
   "source": [
    "#print(\"Accuracy on scaled test data:\",metrics.accuracy_score(y_test_scaled,y_pred_svm_scaled))\n",
    "#lsv_svm_scaled.score\n",
    "\n",
    "print(f\"Accuracy on the training data after scaling is {acc_train_svm_scaled*100:.2f}.\")\n",
    "print(f\"Accuracy on the test data after scaling is {acc_test_svm_scaled *100:.2f}.\")"
   ]
  },
  {
   "cell_type": "markdown",
   "metadata": {},
   "source": [
    "5- For the original data-set: calculate the accuracy of the testing and training data for each model, plot the accuracy of the three models using a single plot.\n",
    "\n"
   ]
  },
  {
   "cell_type": "markdown",
   "metadata": {},
   "source": [
    "<b>In step 5</b>, we will begin to plot the data for training and testing accuracies predicted. \n",
    "\n",
    "Due to original dataframe and scaled dataframe, we decided to plot all the three models before scaling in one single plot and the same for three models after scaling under one single plot.\n",
    "\n",
    "We decided to give a short name for our models accuracies results \n",
    "\n",
    "Before scaling, it is as follows\n",
    "\n",
    "- <b> DTBS - Decision Trees Before Scaling</b>\n",
    "- <b> LPBS - Linear Perceptron Before Scaling</b>\n",
    "- <b> SVMBS - Support Vector Machines Before Scaling</b>\n",
    "\n",
    "After Scaling, it is as follows\n",
    "\n",
    "- <b> DTAS - Decision Trees After Scaling</b>\n",
    "- <b> LPAS - Linear Perceptron After Scaling</b>\n",
    "- <b> SVMAS - Support Vector Machines After Scaling</b>\n",
    "\n",
    "\n",
    "For plotting purpose, our team felt that <b> Barplot</b> would fit perfectly. We thought that providing barplot would make it simple and easy for the reader to understand what we are trying to convey here. We are trying to compare the training and test accuracies with and without scaling. So using Barplot, it has never been more simple for the reader to undersand our accuracy data."
   ]
  },
  {
   "cell_type": "code",
   "execution_count": 23,
   "metadata": {},
   "outputs": [
    {
     "data": {
      "image/png": "[encoded data removed]",
      "text/plain": [
       "<Figure size 1152x576 with 1 Axes>"
      ]
     },
     "metadata": {
      "needs_background": "light"
     },
     "output_type": "display_data"
    }
   ],
   "source": [
    "import matplotlib\n",
    "import matplotlib.pyplot as plt\n",
    "import numpy as np\n",
    "\n",
    "# set width of bar\n",
    "#barWidth = 0.25\n",
    "\n",
    "train_accuracies_before_scaling = [acc_train_decision_original,acc_train_perceptron_original,acc_train_svm_original]\n",
    "test_accuracies_before_scaling  = [acc_test_decision_original,acc_test_perceptron_original,acc_test_svm_original]\n",
    "\n",
    "labels = ['DTBS', 'LPBS', 'SVMBS']\n",
    "x = np.arange(len(labels))  # the label locations\n",
    "width = 0.35  # the width of the bars\n",
    "\n",
    "fig, ax = plt.subplots()\n",
    "rec1 = ax.bar(x - width/2, train_accuracies_before_scaling, width, label='train accuracy')\n",
    "rec2 = ax.bar(x + width/2, test_accuracies_before_scaling, width, label='test accuracy')\n",
    "\n",
    "\n",
    "ax.set_ylabel('Accuracy')\n",
    "ax.set_title('Accuracy score comparison between different models before scaling')\n",
    "ax.set_xticks(x)\n",
    "ax.set_xticklabels(labels)\n",
    "ax.legend(loc='best')\n",
    "\n",
    "plt.gcf().set_size_inches(16, 8)\n",
    "plt.show()"
   ]
  },
  {
   "cell_type": "markdown",
   "metadata": {},
   "source": [
    "6- For the scaled data-sets: calculate the accuracy of the testing data for each model, plot the accuracy of the three models using a single plot.\n",
    "\n"
   ]
  },
  {
   "cell_type": "markdown",
   "metadata": {},
   "source": [
    "<b>Step 6</b> represents the plot with all three models using the same <b> Barplot</b>, only this time it represents the training and testing accuracies for the <b>Scaled Dataframe </b>"
   ]
  },
  {
   "cell_type": "code",
   "execution_count": 24,
   "metadata": {},
   "outputs": [
    {
     "data": {
      "image/png": "[encoded data removed]",
      "text/plain": [
       "<Figure size 1152x576 with 1 Axes>"
      ]
     },
     "metadata": {
      "needs_background": "light"
     },
     "output_type": "display_data"
    }
   ],
   "source": [
    "# after scaling\n",
    "\n",
    "labels = ['DTAS', 'LPAS', 'SVMAS']\n",
    "train_accuracies_after_scaling = [acc_train_decision_scaled,acc_train_perceptron_scaled,acc_train_svm_scaled]\n",
    "test_accuracies_after_scaling  = [acc_test_decision_scaled ,acc_test_perceptron_scaled ,acc_test_svm_scaled ]\n",
    "\n",
    "x = np.arange(len(labels))  # the label locations\n",
    "width = 0.35  # the width of the bars\n",
    "\n",
    "fig, ax = plt.subplots()\n",
    "rec3 = ax.bar(x - width/2, train_accuracies_after_scaling, width, label='train accuracy')\n",
    "rec4 = ax.bar(x + width/2, test_accuracies_after_scaling, width, label='test accuracy')\n",
    "\n",
    "\n",
    "ax.set_ylabel('Accuracy')\n",
    "ax.set_title('Accuracy score comparison between different models after scaling')\n",
    "ax.set_xticks(x)\n",
    "ax.set_xticklabels(labels)\n",
    "ax.legend(loc='best')\n",
    "\n",
    "plt.gcf().set_size_inches(16, 8)\n",
    "plt.show()"
   ]
  },
  {
   "cell_type": "markdown",
   "metadata": {},
   "source": [
    "7- Repeat steps 3 to 6 but this time increase the testing split size by 5% and decreasing the split size of the training data by 5%, do this until the testing size becomes 20% and the training size becomes 80%.\n"
   ]
  },
  {
   "cell_type": "markdown",
   "metadata": {},
   "source": [
    "<b>In step 7</b>, we will try to decrease our split size of the training data by <b> 5 %</b> and then increase the split size of the testing data by <b> 5 %</b>. This will be done till we have a training size of <b> 80 %</b> and a testing size of <b> 20 %</b>\n",
    "\n",
    "We felt that running the whole part in a <b>loop</b> would be more efficient and more easier to predict the accuracies if we used <b>loops</b>.\n",
    "\n",
    "For this, our team felt that we would create dictionaries for training and testing data, and then store the predicted train and test accuracy values with respective to the assigned traing and testing size.\n",
    "\n",
    "Now, we are trying to change the test size, by increasing it by 5%, thereby making the test size values to be for <b> 10 %</b>, <b> 15 %</b>, and <b> 20 %</b>. \n",
    "\n",
    "We will be creating multiple lists here to store the training and testing accuracies for test size <b> 10 %</b>, <b> 15 %</b>, and <b> 20 %</b>. As the test size is assigned, the training size is reduced automatically.\n",
    "\n",
    "\n",
    "\n",
    "After calculating the accuracies, we now plot the data for all the three models before scaling with <b> Original Dataframe </b> and after scalling with <b> Scaled Dataframe</b> with respect to test size of <b> 10 %</b>, <b> 15 %</b>, and <b> 20 %</b>"
   ]
  },
  {
   "cell_type": "code",
   "execution_count": 42,
   "metadata": {},
   "outputs": [
    {
     "data": {
      "text/plain": [
       "[0.7700337734111146, 0.7571384709855695, 0.7571384709855695]"
      ]
     },
     "execution_count": 42,
     "metadata": {},
     "output_type": "execute_result"
    }
   ],
   "source": [
    "#original data split loop\n",
    "from sklearn.model_selection import train_test_split\n",
    "X_loop=adult_encode_copy[['education']] #education\n",
    "y_loop=adult_encode_copy[['salary']] #salary\n",
    "\n",
    "acc_train_decision_list=[]\n",
    "acc_train_peceptron_list=[]\n",
    "acc_train_svm_list=[]\n",
    "\n",
    "acc_test_decision_list=[]\n",
    "acc_test_perceptron_list=[]\n",
    "acc_test_svm_list=[]\n",
    "for i in range(10,25,5):\n",
    "    X_train_loop, X_test_loop, y_train_loop, y_test_loop = train_test_split(X_loop, y_loop,test_size=i/100, random_state=19)\n",
    "    acc_train_decision_loop = clf_dec.score(X_train_loop, y_train_loop) #accdectrainscore\n",
    "    acc_train_decision_list.append(acc_train_decision_loop) #accdeclist\n",
    "    acc_test_decision_loop= clf_dec.score(X_test_loop, y_test_loop) #accdectest\n",
    "    acc_test_decision_list.append(acc_test_decision_loop) #accdeclist\n",
    "    acc_train_perceptron_original_loop = clf_perceptron.score(X_train_loop, y_train_loop) #accpertrain\n",
    "    acc_train_peceptron_list.append(acc_train_perceptron_original_loop) #acctrainperceplist\n",
    "    acc_test_perceptron_original_loop = clf_perceptron.score(X_test_loop, y_test_loop)\n",
    "    acc_test_perceptron_list.append(acc_test_perceptron_original_loop) #acctestperceplist\n",
    "    acc_train_svm_original_loop = lsv_svm_original.score(X_train_loop, y_train_loop) \n",
    "    acc_train_svm_list.append(acc_train_svm_original_loop) #svmtrainlist\n",
    "    acc_test_svm_original_loop = lsv_svm_original.score(X_test_loop, y_test_loop)\n",
    "    acc_test_svm_list.append(acc_test_svm_original_loop ) #svmtestlist\n",
    "    \n",
    "#acc_train_decision_list\n",
    "#acc_train_peceptron_list \n",
    "#acc_train_svm_list\n",
    "\n",
    "#acc_test_decision_list\n",
    "#acc_test_perceptron_list\n",
    "#acc_test_svm_list\n",
    "\n",
    "#at10testsize\n",
    "train_accuracies_10 = [acc_train_decision_list[0],acc_train_peceptron_list[0],acc_train_svm_list[0]]\n",
    "train_accuracies_15 = [acc_train_decision_list[1],acc_train_peceptron_list[1],acc_train_svm_list[1]]\n",
    "train_accuracies_20 = [acc_train_decision_list[2],acc_train_peceptron_list[2],acc_train_svm_list[2]]\n",
    "\n",
    "test_accuracies_10 = [acc_test_decision_list[0],acc_test_perceptron_list[0],acc_test_svm_list[0]]\n",
    "test_accuracies_15 = [acc_test_decision_list[1],acc_test_perceptron_list[1],acc_test_svm_list[1]]\n",
    "test_accuracies_20 = [acc_test_decision_list[2],acc_test_perceptron_list[2],acc_test_svm_list[2]]\n"
   ]
  },
  {
   "cell_type": "code",
   "execution_count": 34,
   "metadata": {},
   "outputs": [
    {
     "data": {
      "image/png": "[encoded data removed]",
      "text/plain": [
       "<Figure size 1152x576 with 1 Axes>"
      ]
     },
     "metadata": {
      "needs_background": "light"
     },
     "output_type": "display_data"
    }
   ],
   "source": [
    "# before scaling 10 testsize\n",
    "import matplotlib\n",
    "import matplotlib.pyplot as plt\n",
    "import numpy as np\n",
    "\n",
    "train_accuracies_10\n",
    "test_accuracies_10 \n",
    "\n",
    "labels = ['DTBS10', 'LPBS10', 'SVMBS10']\n",
    "x = np.arange(len(labels))  # the label locations\n",
    "width = 0.35  # the width of the bars\n",
    "\n",
    "fig, ax = plt.subplots()\n",
    "rec10 = ax.bar(x - width/2, train_accuracies_10, width, label='train accuracy')\n",
    "rec11 = ax.bar(x + width/2, test_accuracies_10, width, label='test accuracy')\n",
    "\n",
    "\n",
    "ax.set_ylabel('Accuracy')\n",
    "ax.set_title('Accuracy score comparison between different models before scaling with test size 10 ')\n",
    "ax.set_xticks(x)\n",
    "ax.set_xticklabels(labels)\n",
    "ax.legend(loc='best')\n",
    "\n",
    "plt.gcf().set_size_inches(16, 8)\n",
    "plt.show()"
   ]
  },
  {
   "cell_type": "code",
   "execution_count": 35,
   "metadata": {},
   "outputs": [
    {
     "data": {
      "image/png": "[encoded data removed]",
      "text/plain": [
       "<Figure size 1152x576 with 1 Axes>"
      ]
     },
     "metadata": {
      "needs_background": "light"
     },
     "output_type": "display_data"
    }
   ],
   "source": [
    "# before scaling 15 testsize\n",
    "import matplotlib\n",
    "import matplotlib.pyplot as plt\n",
    "import numpy as np\n",
    "\n",
    "train_accuracies_15\n",
    "test_accuracies_15 \n",
    "\n",
    "labels = ['DTBS15', 'LPBS15', 'SVMBS15']\n",
    "x = np.arange(len(labels))  # the label locations\n",
    "width = 0.35  # the width of the bars\n",
    "\n",
    "fig, ax = plt.subplots()\n",
    "rec15 = ax.bar(x - width/2, train_accuracies_15, width, label='train accuracy')\n",
    "rec16 = ax.bar(x + width/2, test_accuracies_15, width, label='test accuracy')\n",
    "\n",
    "\n",
    "ax.set_ylabel('Accuracy')\n",
    "ax.set_title('Accuracy score comparison between different models before scaling with test size 15')\n",
    "ax.set_xticks(x)\n",
    "ax.set_xticklabels(labels)\n",
    "ax.legend(loc='best')\n",
    "\n",
    "plt.gcf().set_size_inches(16, 8)\n",
    "plt.show()"
   ]
  },
  {
   "cell_type": "code",
   "execution_count": 36,
   "metadata": {},
   "outputs": [
    {
     "data": {
      "image/png": "[encoded data removed]",
      "text/plain": [
       "<Figure size 1152x576 with 1 Axes>"
      ]
     },
     "metadata": {
      "needs_background": "light"
     },
     "output_type": "display_data"
    }
   ],
   "source": [
    "# before scaling 20 testsize\n",
    "import matplotlib\n",
    "import matplotlib.pyplot as plt\n",
    "import numpy as np\n",
    "\n",
    "train_accuracies_20\n",
    "test_accuracies_20 \n",
    "\n",
    "labels = ['DTBS20', 'LPBS20', 'SVMBS20']\n",
    "x = np.arange(len(labels))  # the label locations\n",
    "width = 0.35  # the width of the bars\n",
    "\n",
    "fig, ax = plt.subplots()\n",
    "rec20 = ax.bar(x - width/2, train_accuracies_10, width, label='train accuracy')\n",
    "rec21 = ax.bar(x + width/2, test_accuracies_10, width, label='test accuracy')\n",
    "\n",
    "\n",
    "ax.set_ylabel('Accuracy')\n",
    "ax.set_title('Accuracy score comparison between different models before scaling with test size 20 ')\n",
    "ax.set_xticks(x)\n",
    "ax.set_xticklabels(labels)\n",
    "ax.legend(loc='best')\n",
    "\n",
    "plt.gcf().set_size_inches(16, 8)\n",
    "plt.show()"
   ]
  },
  {
   "cell_type": "code",
   "execution_count": 37,
   "metadata": {},
   "outputs": [],
   "source": [
    "# Scaled data loop\n",
    "from sklearn.model_selection import train_test_split\n",
    "X_scaled_loop=adult_scaled[[4]]\n",
    "y_scaled_loop=adult_scaled[[14]]\n",
    "\n",
    "acc_train_decision_scaled_list=[]\n",
    "acc_train_peceptron_scaled_list=[]\n",
    "acc_train_svm_scaled_list=[]\n",
    "\n",
    "acc_test_decision_scaled_list=[]\n",
    "acc_test_perceptron_scaled_list=[]\n",
    "acc_test_svm_scaled_list=[]\n",
    "\n",
    "for j in range(10,25,5):\n",
    "    X_train_scaled_loop, X_test_scaled_loop, y_train_scaled_loop, y_test_scaled_loop = train_test_split(X_scaled_loop, y_scaled_loop,test_size=j, random_state=19)\n",
    "    acc_train_decision_scaled_loop = clf_dec.score(X_train_scaled_loop, y_train_scaled_loop) #accdectrainscore\n",
    "    acc_train_decision_scaled_list.append(acc_train_decision_scaled_loop) #accdeclist\n",
    "    acc_test_decision_scaled_loop= clf_dec.score(X_test_scaled_loop, y_test_scaled_loop) #accdectest\n",
    "    acc_test_decision_scaled_list.append(acc_test_decision_scaled_loop) #accdeclist\n",
    "    acc_train_perceptron_scaled_loop = clf_perceptron.score(X_train_scaled_loop, y_train_scaled_loop) #accpertrain\n",
    "    acc_train_peceptron_scaled_list.append(acc_train_perceptron_scaled_loop) #acctrainperceplist\n",
    "    acc_test_perceptron_scaled_loop = clf_perceptron.score(X_test_scaled_loop, y_test_scaled_loop)\n",
    "    acc_test_perceptron_scaled_list.append(acc_test_perceptron_scaled_loop) #acctestperceplist\n",
    "    acc_train_svm_scaled_loop = lsv_svm_original.score(X_train_scaled_loop, y_train_scaled_loop) \n",
    "    acc_train_svm_scaled_list.append(acc_train_svm_scaled_loop) #svmtrainlist\n",
    "    acc_test_svm_scaled_loop = lsv_svm_original.score(X_test_scaled_loop, y_test_scaled_loop)\n",
    "    acc_test_svm_scaled_list.append(acc_test_svm_scaled_loop ) #svmtestlist\n",
    "    \n",
    "train_accuracies_scaled10 = [acc_train_decision_scaled_list[0],acc_train_peceptron_scaled_list[0],acc_train_svm_scaled_list[0]]\n",
    "train_accuracies_scaled15 = [acc_train_decision_scaled_list[1],acc_train_peceptron_scaled_list[1],acc_train_svm_scaled_list[1]]\n",
    "train_accuracies_scaled20 = [acc_train_decision_scaled_list[2],acc_train_peceptron_scaled_list[2],acc_train_svm_scaled_list[2]]\n",
    "\n",
    "test_accuracies_scaled10 = [acc_test_decision_scaled_list[0],acc_test_perceptron_scaled_list[0],acc_test_svm_scaled_list[0]]\n",
    "test_accuracies_scaled15 = [acc_test_decision_scaled_list[1],acc_test_perceptron_scaled_list[1],acc_test_svm_scaled_list[1]]\n",
    "test_accuracies_scaled20 = [acc_test_decision_scaled_list[2],acc_test_perceptron_scaled_list[2],acc_test_svm_scaled_list[2]]"
   ]
  },
  {
   "cell_type": "code",
   "execution_count": 38,
   "metadata": {},
   "outputs": [
    {
     "data": {
      "image/png": "[encoded data removed]",
      "text/plain": [
       "<Figure size 1152x576 with 1 Axes>"
      ]
     },
     "metadata": {
      "needs_background": "light"
     },
     "output_type": "display_data"
    }
   ],
   "source": [
    "# after scaling 10 testsize\n",
    "import matplotlib\n",
    "import matplotlib.pyplot as plt\n",
    "import numpy as np\n",
    "\n",
    "train_accuracies_scaled10\n",
    "test_accuracies_scaled10 \n",
    "\n",
    "labels = ['DTAS10', 'LPAS10', 'SVMAS10']\n",
    "x = np.arange(len(labels))  # the label locations\n",
    "width = 0.35  # the width of the bars\n",
    "\n",
    "fig, ax = plt.subplots()\n",
    "recs10 = ax.bar(x - width/2, train_accuracies_scaled10, width, label='train accuracy')\n",
    "recs11 = ax.bar(x + width/2, test_accuracies_scaled10, width, label='test accuracy')\n",
    "\n",
    "\n",
    "ax.set_ylabel('Accuracy')\n",
    "ax.set_title('Accuracy score comparison between different models after scaling with test size 10 ')\n",
    "ax.set_xticks(x)\n",
    "ax.set_xticklabels(labels)\n",
    "ax.legend(loc='best')\n",
    "\n",
    "plt.gcf().set_size_inches(16, 8)\n",
    "plt.show()"
   ]
  },
  {
   "cell_type": "code",
   "execution_count": 39,
   "metadata": {},
   "outputs": [
    {
     "data": {
      "image/png": "[encoded data removed]",
      "text/plain": [
       "<Figure size 1152x576 with 1 Axes>"
      ]
     },
     "metadata": {
      "needs_background": "light"
     },
     "output_type": "display_data"
    }
   ],
   "source": [
    "# after scaling 15 testsize\n",
    "import matplotlib\n",
    "import matplotlib.pyplot as plt\n",
    "import numpy as np\n",
    "\n",
    "train_accuracies_scaled15\n",
    "test_accuracies_scaled15 \n",
    "\n",
    "labels = ['DTAS15', 'LPAS15', 'SVMAS15']\n",
    "x = np.arange(len(labels))  # the label locations\n",
    "width = 0.35  # the width of the bars\n",
    "\n",
    "fig, ax = plt.subplots()\n",
    "recs15 = ax.bar(x - width/2, train_accuracies_scaled15, width, label='train accuracy')\n",
    "recs16 = ax.bar(x + width/2, test_accuracies_scaled15, width, label='test accuracy')\n",
    "\n",
    "\n",
    "ax.set_ylabel('Accuracy')\n",
    "ax.set_title('Accuracy score comparison between different models after scaling with test size 15 ')\n",
    "ax.set_xticks(x)\n",
    "ax.set_xticklabels(labels)\n",
    "ax.legend(loc='best')\n",
    "\n",
    "plt.gcf().set_size_inches(16, 8)\n",
    "plt.show()"
   ]
  },
  {
   "cell_type": "code",
   "execution_count": 40,
   "metadata": {},
   "outputs": [
    {
     "data": {
      "image/png": "[encoded data removed]",
      "text/plain": [
       "<Figure size 1152x576 with 1 Axes>"
      ]
     },
     "metadata": {
      "needs_background": "light"
     },
     "output_type": "display_data"
    }
   ],
   "source": [
    "# after scaling 20 testsize\n",
    "import matplotlib\n",
    "import matplotlib.pyplot as plt\n",
    "import numpy as np\n",
    "\n",
    "train_accuracies_scaled20\n",
    "test_accuracies_scaled20 \n",
    "\n",
    "labels = ['DTAS20', 'LPA20', 'SVMAS20']\n",
    "x = np.arange(len(labels))  # the label locations\n",
    "width = 0.35  # the width of the bars\n",
    "\n",
    "fig, ax = plt.subplots()\n",
    "recs20 = ax.bar(x - width/2, train_accuracies_scaled20, width, label='train accuracy')\n",
    "recs21 = ax.bar(x + width/2, test_accuracies_scaled20, width, label='test accuracy')\n",
    "\n",
    "ax.set_ylabel('Accuracy')\n",
    "ax.set_title('Accuracy score comparison between different models after scaling with test size 20 ')\n",
    "ax.set_xticks(x)\n",
    "ax.set_xticklabels(labels)\n",
    "ax.legend(loc='best')\n",
    "\n",
    "plt.gcf().set_size_inches(16, 8)\n",
    "plt.show()"
   ]
  },
  {
   "cell_type": "markdown",
   "metadata": {},
   "source": [
    "8- Explain why certain models achieved better accuracy for training or testing than the other models in a clear non-Pythonnic language (plain English)."
   ]
  },
  {
   "cell_type": "markdown",
   "metadata": {},
   "source": [
    "<b>A8- </b> <b>Following are the models we used :</b> \n",
    "\n",
    "<b>Decision trees</b>: Is a supervised learning method used for both regression and classification . The end goal is to be able to create a model that predicts the target variable by inferring the decision rules from data features. The main advantage of decision tree is that it does not require normalization of data or scaling. The disadvantage is that some calculations could become more complex than other algorithms.\n",
    "\n",
    "<b>Linear perceptron</b>: Perceptron is a classification algorithm that uses the same basic implementation same as SGDClassifier. It is mainly used for binary classification problems.\n",
    "\n",
    "<b>Linear SVM</b>: Is also a supervied learning method like decision trees but uses classification algorithms for classification problems. The main advanatge of svm is it scales well with high dimensional data. The main disadvantage is of svm is it takes long training time for large datasets.\n",
    "\n",
    "<b>We can see that almost all the models have similar accuracy. In our case for our dataset we would prefer linear perceptron. SVM might take longer on training but in general it is a better model overall.</b>"
   ]
  },
  {
   "cell_type": "markdown",
   "metadata": {},
   "source": [
    "9- Any improvement in the accuracy of the testing data because of the scaling? Explain your findings.\n",
    "\n"
   ]
  },
  {
   "cell_type": "markdown",
   "metadata": {},
   "source": [
    "<b>A9</b>- Yes, there is an improvement in linear peceptron after scaling.  The training data accuracy and testing data accuracy are 75.89 and 76.55 respectively before scaling,\n",
    "but after scaling the accuracies improved to 77.34 and 77.72 for training and testing.\n",
    "\n",
    "For <b>Decision Tree Model</b> the training data accuracy is 78.01 and the testing data accuracy is 76.98 before and after scaling. \n",
    "\n",
    "For <b>SVM Model</b> the training data accuracy is 75.89 and the testing data accuracy is 76.55 before and after scaling. \n",
    "\n",
    "\n",
    "<b>We can see that linear perceptron has the highest test accuracy but all the models performed similarly.</b> \n",
    "\n",
    "Although the training and testing accuracies are same for before and after scaling in <b>Decision Tree Model</b> and <b> SVM model </b>, it is clear that, both the models are good for prediction and it predicts good accuracies for the train and test data."
   ]
  }
 ],
 "metadata": {
  "kernelspec": {
   "display_name": "Python 3",
   "language": "python",
   "name": "python3"
  },
  "language_info": {
   "codemirror_mode": {
    "name": "ipython",
    "version": 3
   },
   "file_extension": ".py",
   "mimetype": "text/x-python",
   "name": "python",
   "nbconvert_exporter": "python",
   "pygments_lexer": "ipython3",
   "version": "3.7.9"
  }
 },
 "nbformat": 4,
 "nbformat_minor": 4
}
